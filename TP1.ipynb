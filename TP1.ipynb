{
 "cells": [
  {
   "cell_type": "code",
   "execution_count": 1,
   "metadata": {},
   "outputs": [],
   "source": [
    "import numpy as np\n",
    "np.set_printoptions(suppress=True)\n",
    "import pandas as pd\n",
    "import warnings\n",
    "import matplotlib.pyplot as plt\n",
    "warnings.filterwarnings('ignore')"
   ]
  },
  {
   "cell_type": "code",
   "execution_count": 2,
   "metadata": {},
   "outputs": [
    {
     "data": {
      "text/html": [
       "<div>\n",
       "<style scoped>\n",
       "    .dataframe tbody tr th:only-of-type {\n",
       "        vertical-align: middle;\n",
       "    }\n",
       "\n",
       "    .dataframe tbody tr th {\n",
       "        vertical-align: top;\n",
       "    }\n",
       "\n",
       "    .dataframe thead th {\n",
       "        text-align: right;\n",
       "    }\n",
       "</style>\n",
       "<table border=\"1\" class=\"dataframe\">\n",
       "  <thead>\n",
       "    <tr style=\"text-align: right;\">\n",
       "      <th></th>\n",
       "      <th>ville</th>\n",
       "      <th>janv</th>\n",
       "      <th>fev</th>\n",
       "      <th>mars</th>\n",
       "      <th>avril</th>\n",
       "      <th>mai</th>\n",
       "      <th>juin</th>\n",
       "      <th>juil</th>\n",
       "      <th>aout</th>\n",
       "      <th>sept</th>\n",
       "      <th>oct</th>\n",
       "      <th>nov</th>\n",
       "      <th>dec</th>\n",
       "    </tr>\n",
       "  </thead>\n",
       "  <tbody>\n",
       "    <tr>\n",
       "      <th>0</th>\n",
       "      <td>ajac</td>\n",
       "      <td>7.7</td>\n",
       "      <td>8.7</td>\n",
       "      <td>10.5</td>\n",
       "      <td>12.6</td>\n",
       "      <td>15.9</td>\n",
       "      <td>19.8</td>\n",
       "      <td>22.0</td>\n",
       "      <td>22.2</td>\n",
       "      <td>20.3</td>\n",
       "      <td>16.3</td>\n",
       "      <td>11.8</td>\n",
       "      <td>8.7</td>\n",
       "    </tr>\n",
       "    <tr>\n",
       "      <th>1</th>\n",
       "      <td>ange</td>\n",
       "      <td>4.2</td>\n",
       "      <td>4.9</td>\n",
       "      <td>7.9</td>\n",
       "      <td>10.4</td>\n",
       "      <td>13.6</td>\n",
       "      <td>17.0</td>\n",
       "      <td>18.7</td>\n",
       "      <td>18.4</td>\n",
       "      <td>16.1</td>\n",
       "      <td>11.7</td>\n",
       "      <td>7.6</td>\n",
       "      <td>4.9</td>\n",
       "    </tr>\n",
       "    <tr>\n",
       "      <th>2</th>\n",
       "      <td>ango</td>\n",
       "      <td>4.6</td>\n",
       "      <td>5.4</td>\n",
       "      <td>8.9</td>\n",
       "      <td>11.3</td>\n",
       "      <td>14.5</td>\n",
       "      <td>17.2</td>\n",
       "      <td>19.5</td>\n",
       "      <td>19.4</td>\n",
       "      <td>16.9</td>\n",
       "      <td>12.5</td>\n",
       "      <td>8.1</td>\n",
       "      <td>5.3</td>\n",
       "    </tr>\n",
       "    <tr>\n",
       "      <th>3</th>\n",
       "      <td>besa</td>\n",
       "      <td>1.1</td>\n",
       "      <td>2.2</td>\n",
       "      <td>6.4</td>\n",
       "      <td>9.7</td>\n",
       "      <td>13.6</td>\n",
       "      <td>16.9</td>\n",
       "      <td>18.7</td>\n",
       "      <td>18.3</td>\n",
       "      <td>15.5</td>\n",
       "      <td>10.4</td>\n",
       "      <td>5.7</td>\n",
       "      <td>2.0</td>\n",
       "    </tr>\n",
       "    <tr>\n",
       "      <th>4</th>\n",
       "      <td>biar</td>\n",
       "      <td>7.6</td>\n",
       "      <td>8.0</td>\n",
       "      <td>10.8</td>\n",
       "      <td>12.0</td>\n",
       "      <td>14.7</td>\n",
       "      <td>17.8</td>\n",
       "      <td>19.7</td>\n",
       "      <td>19.9</td>\n",
       "      <td>18.5</td>\n",
       "      <td>14.8</td>\n",
       "      <td>10.9</td>\n",
       "      <td>8.2</td>\n",
       "    </tr>\n",
       "  </tbody>\n",
       "</table>\n",
       "</div>"
      ],
      "text/plain": [
       "  ville  janv  fev  mars  avril   mai  juin  juil  aout  sept   oct   nov  dec\n",
       "0  ajac   7.7  8.7  10.5   12.6  15.9  19.8  22.0  22.2  20.3  16.3  11.8  8.7\n",
       "1  ange   4.2  4.9   7.9   10.4  13.6  17.0  18.7  18.4  16.1  11.7   7.6  4.9\n",
       "2  ango   4.6  5.4   8.9   11.3  14.5  17.2  19.5  19.4  16.9  12.5   8.1  5.3\n",
       "3  besa   1.1  2.2   6.4    9.7  13.6  16.9  18.7  18.3  15.5  10.4   5.7  2.0\n",
       "4  biar   7.6  8.0  10.8   12.0  14.7  17.8  19.7  19.9  18.5  14.8  10.9  8.2"
      ]
     },
     "execution_count": 2,
     "metadata": {},
     "output_type": "execute_result"
    }
   ],
   "source": [
    "villes = pd.read_csv('./villes.csv', sep=';')\n",
    "villes.head(5)"
   ]
  },
  {
   "cell_type": "code",
   "execution_count": 3,
   "metadata": {},
   "outputs": [
    {
     "data": {
      "text/plain": [
       "(32, 13)"
      ]
     },
     "execution_count": 3,
     "metadata": {},
     "output_type": "execute_result"
    }
   ],
   "source": [
    "villes.shape"
   ]
  },
  {
   "cell_type": "code",
   "execution_count": 4,
   "metadata": {},
   "outputs": [
    {
     "data": {
      "text/plain": [
       "array([[ 7.7,  8.7, 10.5, 12.6, 15.9, 19.8, 22. , 22.2, 20.3, 16.3, 11.8,\n",
       "         8.7],\n",
       "       [ 4.2,  4.9,  7.9, 10.4, 13.6, 17. , 18.7, 18.4, 16.1, 11.7,  7.6,\n",
       "         4.9],\n",
       "       [ 4.6,  5.4,  8.9, 11.3, 14.5, 17.2, 19.5, 19.4, 16.9, 12.5,  8.1,\n",
       "         5.3],\n",
       "       [ 1.1,  2.2,  6.4,  9.7, 13.6, 16.9, 18.7, 18.3, 15.5, 10.4,  5.7,\n",
       "         2. ],\n",
       "       [ 7.6,  8. , 10.8, 12. , 14.7, 17.8, 19.7, 19.9, 18.5, 14.8, 10.9,\n",
       "         8.2],\n",
       "       [ 5.6,  6.6, 10.3, 12.8, 15.8, 19.3, 20.9, 21. , 18.6, 13.8,  9.1,\n",
       "         6.2],\n",
       "       [ 6.1,  5.8,  7.8,  9.2, 11.6, 14.4, 15.6, 16. , 14.7, 12. ,  9. ,\n",
       "         7. ],\n",
       "       [ 2.6,  3.7,  7.5, 10.3, 13.8, 17.3, 19.4, 19.1, 16.2, 11.2,  6.6,\n",
       "         3.6],\n",
       "       [ 1.3,  2.6,  6.9, 10.4, 14.3, 17.7, 19.6, 19. , 15.9, 10.5,  5.7,\n",
       "         2.1],\n",
       "       [ 0.5,  1.6,  5.7,  9. , 13. , 16.4, 18.9, 18.3, 15.3, 10.1,  4.6,\n",
       "         0.5],\n",
       "       [ 1.5,  3.2,  7.7, 10.6, 14.5, 17.8, 20.1, 19.5, 16.7, 11.4,  6.5,\n",
       "         2.3],\n",
       "       [ 2.4,  2.9,  6. ,  8.9, 12.4, 15.3, 17.1, 17.1, 14.7, 10.4,  6.1,\n",
       "         3.5],\n",
       "       [ 3.1,  3.9,  7.4,  9.9, 13.3, 16.8, 18.4, 17.8, 15.3, 10.7,  6.7,\n",
       "         3.8],\n",
       "       [ 2.1,  3.3,  7.7, 10.9, 14.9, 18.5, 20.7, 20.1, 16.9, 11.4,  6.7,\n",
       "         3.1],\n",
       "       [ 5.5,  6.6, 10. , 13. , 16.8, 20.8, 23.3, 22.8, 19.9, 15. , 10.2,\n",
       "         6.9],\n",
       "       [ 5.6,  6.7,  9.9, 12.8, 16.2, 20.1, 22.7, 22.3, 19.3, 14.6, 10. ,\n",
       "         6.5],\n",
       "       [ 0.8,  1.6,  5.5,  9.2, 13.3, 16.5, 18.3, 17.7, 14.7,  9.4,  5.2,\n",
       "         1.8],\n",
       "       [ 5. ,  5.3,  8.4, 10.8, 13.9, 17.2, 18.8, 18.6, 16.4, 12.2,  8.2,\n",
       "         5.5],\n",
       "       [ 7.5,  8.5, 10.8, 13.3, 16.7, 20.1, 22.7, 22.5, 20.3, 16. , 11.5,\n",
       "         8.2],\n",
       "       [ 5.7,  6.8, 10.1, 13. , 16.6, 20.8, 23.6, 22.9, 19.7, 14.6,  9.8,\n",
       "         6.5],\n",
       "       [ 2.7,  3.6,  6.9,  9.8, 13.4, 16.6, 18.4, 18.2, 15.6, 10.9,  6.6,\n",
       "         3.6],\n",
       "       [ 3.4,  4.1,  7.6, 10.7, 14.3, 17.5, 19.1, 18.7, 16. , 11.4,  7.1,\n",
       "         4.3],\n",
       "       [ 7.5,  8.4, 11.3, 13.9, 17.1, 21.1, 23.8, 23.3, 20.5, 15.9, 11.5,\n",
       "         8.6],\n",
       "       [ 1.9,  2.8,  6.2,  9.4, 13.3, 16.4, 18.3, 17.9, 15.1, 10.3,  6.1,\n",
       "         3. ],\n",
       "       [ 4.8,  5.3,  7.9, 10.1, 13.1, 16.2, 17.9, 17.8, 15.7, 11.6,  7.8,\n",
       "         5.4],\n",
       "       [ 3.4,  3.9,  6.8,  9.5, 12.9, 15.7, 17.6, 17.2, 15. , 11. ,  6.8,\n",
       "         4.3],\n",
       "       [ 2. ,  2.9,  6.3,  9.2, 12.7, 15.6, 17.4, 17.4, 15. , 10.5,  6.1,\n",
       "         3.1],\n",
       "       [ 0.4,  1.5,  5.6,  9.8, 14. , 17.2, 19. , 18.3, 15.1,  9.5,  4.9,\n",
       "         1.3],\n",
       "       [ 8.6,  9.1, 11.2, 13.4, 16.6, 20.2, 22.6, 22.4, 20.5, 16.5, 12.6,\n",
       "         9.7],\n",
       "       [ 4.7,  5.6,  9.2, 11.6, 14.9, 18.7, 20.9, 20.9, 18.3, 13.3,  8.6,\n",
       "         5.5],\n",
       "       [ 3.5,  4.4,  7.7, 10.6, 13.9, 17.4, 19.1, 18.7, 16.2, 11.7,  7.2,\n",
       "         4.3],\n",
       "       [ 2.4,  3.4,  7.1,  9.9, 13.6, 17.1, 19.3, 18.8, 16. , 11. ,  6.6,\n",
       "         3.4]])"
      ]
     },
     "execution_count": 4,
     "metadata": {},
     "output_type": "execute_result"
    }
   ],
   "source": [
    "x = villes.iloc[:,1:13].values\n",
    "labels = villes.iloc[:,0].values\n",
    "x"
   ]
  },
  {
   "cell_type": "markdown",
   "metadata": {},
   "source": [
    "# ACP"
   ]
  },
  {
   "cell_type": "code",
   "execution_count": 5,
   "metadata": {},
   "outputs": [],
   "source": [
    "from sklearn.preprocessing import StandardScaler\n",
    "from sklearn.decomposition import PCA"
   ]
  },
  {
   "cell_type": "code",
   "execution_count": 6,
   "metadata": {},
   "outputs": [
    {
     "data": {
      "text/plain": [
       "array([[ 1.63835106,  1.78748032,  1.35686597,  1.16748094,  1.09413658,\n",
       "         1.2081338 ,  1.11734499,  1.39767179,  1.73963204,  1.93208186,\n",
       "         1.82836605,  1.68024825],\n",
       "       [ 0.116831  ,  0.05000944, -0.1285452 , -0.32148026, -0.52942092,\n",
       "        -0.42704427, -0.5237069 , -0.53585369, -0.41130215, -0.27258829,\n",
       "        -0.12654562,  0.04961627],\n",
       "       [ 0.29071901,  0.27862403,  0.44276679,  0.28764023,  0.10588418,\n",
       "        -0.31024584, -0.12587614, -0.0270312 , -0.0016004 ,  0.1108326 ,\n",
       "         0.10618196,  0.22126174],\n",
       "       [-1.23080105, -1.18450934, -0.98551318, -0.79524064, -0.52942092,\n",
       "        -0.48544349, -0.5237069 , -0.58673594, -0.71857846, -0.89564725,\n",
       "        -1.01091043, -1.1948134 ],\n",
       "       [ 1.59487906,  1.4674199 ,  1.52825957,  0.76140061,  0.2470631 ,\n",
       "         0.04014946, -0.02641845,  0.22738005,  0.8178031 ,  1.21316768,\n",
       "         1.40945641,  1.46569141],\n",
       "       [ 0.72543903,  0.82729905,  1.24260358,  1.30284105,  1.02354712,\n",
       "         0.91613772,  0.57032769,  0.7870848 ,  0.86901582,  0.73389156,\n",
       "         0.57163712,  0.60746405],\n",
       "       [ 0.94279904,  0.4615157 , -0.1856764 , -1.13364091, -1.94121006,\n",
       "        -1.94542391, -2.06530111, -1.75702768, -1.12828021, -0.12880546,\n",
       "         0.5250916 ,  0.950755  ],\n",
       "       [-0.57872102, -0.49866557, -0.35706999, -0.38916031, -0.38824201,\n",
       "        -0.25184662, -0.17560499, -0.17967794, -0.36008943, -0.51222635,\n",
       "        -0.59200078, -0.50823151],\n",
       "       [-1.14385704, -1.00161767, -0.69985719, -0.32148026, -0.03529473,\n",
       "        -0.01824976, -0.07614729, -0.23056019, -0.51372758, -0.84771964,\n",
       "        -1.01091043, -1.15190203],\n",
       "       [-1.49163306, -1.45884685, -1.38543157, -1.26900102, -0.95295766,\n",
       "        -0.77743958, -0.42424921, -0.58673594, -0.8210039 , -1.03943009,\n",
       "        -1.5229111 , -1.83848392],\n",
       "       [-1.05691304, -0.72728016, -0.2428076 , -0.18612015,  0.10588418,\n",
       "         0.04014946,  0.17249693,  0.02385105, -0.10402583, -0.41637113,\n",
       "        -0.6385463 , -1.0660793 ],\n",
       "       [-0.66566503, -0.86444892, -1.21403798, -1.33668107, -1.3764944 ,\n",
       "        -1.41983096, -1.31936843, -1.19732293, -1.12828021, -0.89564725,\n",
       "        -0.82472836, -0.55114288],\n",
       "       [-0.36136101, -0.40721974, -0.41420119, -0.65988053, -0.74118929,\n",
       "        -0.54384271, -0.67289344, -0.84114719, -0.8210039 , -0.75186441,\n",
       "        -0.54545527, -0.42240878],\n",
       "       [-0.79608103, -0.68155724, -0.2428076 ,  0.01692001,  0.38824201,\n",
       "         0.44894398,  0.47087   ,  0.32914455, -0.0016004 , -0.41637113,\n",
       "        -0.54545527, -0.72278835],\n",
       "       [ 0.68196703,  0.82729905,  1.07120998,  1.43820115,  1.72944169,\n",
       "         1.79212597,  1.76381998,  1.70296529,  1.53478116,  1.3090229 ,\n",
       "         1.0836378 ,  0.90784363],\n",
       "       [ 0.72543903,  0.87302196,  1.01407878,  1.30284105,  1.30590495,\n",
       "         1.38333145,  1.46544691,  1.44855404,  1.22750485,  1.11731246,\n",
       "         0.99054676,  0.73619816],\n",
       "       [-1.36121705, -1.45884685, -1.49969397, -1.13364091, -0.74118929,\n",
       "        -0.71904036, -0.72262228, -0.89202944, -1.12828021, -1.37492337,\n",
       "        -1.24363801, -1.28063614],\n",
       "       [ 0.46460702,  0.23290111,  0.1571108 , -0.05076004, -0.31765255,\n",
       "        -0.31024584, -0.47397806, -0.43408919, -0.25766399, -0.03295023,\n",
       "         0.15272747,  0.30708448],\n",
       "       [ 1.55140706,  1.69603449,  1.52825957,  1.64124132,  1.65885223,\n",
       "         1.38333145,  1.46544691,  1.55031854,  1.73963204,  1.78829903,\n",
       "         1.68872951,  1.46569141],\n",
       "       [ 0.76891103,  0.91874488,  1.12834118,  1.43820115,  1.58826277,\n",
       "         1.79212597,  1.91300652,  1.75384754,  1.43235573,  1.11731246,\n",
       "         0.89745573,  0.73619816],\n",
       "       [-0.53524902, -0.54438849, -0.69985719, -0.72756058, -0.67059984,\n",
       "        -0.66064114, -0.67289344, -0.63761819, -0.66736574, -0.65600919,\n",
       "        -0.59200078, -0.50823151],\n",
       "       [-0.23094501, -0.3157739 , -0.29993879, -0.1184401 , -0.03529473,\n",
       "        -0.13504819, -0.32479152, -0.38320694, -0.46251487, -0.41637113,\n",
       "        -0.3592732 , -0.20785194],\n",
       "       [ 1.55140706,  1.65031157,  1.81391557,  2.04732164,  1.94121006,\n",
       "         1.96732362,  2.01246421,  1.95737653,  1.84205748,  1.74037141,\n",
       "         1.68872951,  1.63733688],\n",
       "       [-0.88302503, -0.91017183, -1.09977558, -0.9982808 , -0.74118929,\n",
       "        -0.77743958, -0.72262228, -0.79026494, -0.92342933, -0.94357486,\n",
       "        -0.82472836, -0.76569972],\n",
       "       [ 0.37766301,  0.23290111, -0.1285452 , -0.52452042, -0.88236821,\n",
       "        -0.89423801, -0.92153767, -0.84114719, -0.61615302, -0.32051591,\n",
       "        -0.03345459,  0.26417311],\n",
       "       [-0.23094501, -0.40721974, -0.75698839, -0.93060075, -1.02354712,\n",
       "        -1.18623409, -1.0707242 , -1.14644068, -0.97464205, -0.60808158,\n",
       "        -0.49890975, -0.20785194],\n",
       "       [-0.83955303, -0.86444892, -1.04264438, -1.13364091, -1.16472603,\n",
       "        -1.24463331, -1.17018189, -1.04467618, -0.97464205, -0.84771964,\n",
       "        -0.82472836, -0.72278835],\n",
       "       [-1.53510506, -1.50456977, -1.44256277, -0.72756058, -0.2470631 ,\n",
       "        -0.31024584, -0.37452037, -0.58673594, -0.92342933, -1.32699576,\n",
       "        -1.38327456, -1.49519298],\n",
       "       [ 2.02959908,  1.97037199,  1.75678437,  1.70892137,  1.58826277,\n",
       "         1.44173067,  1.41571807,  1.49943629,  1.84205748,  2.02793709,\n",
       "         2.20073018,  2.10936193],\n",
       "       [ 0.33419101,  0.37006987,  0.61416039,  0.49068039,  0.38824201,\n",
       "         0.56574241,  0.57032769,  0.73620255,  0.71537766,  0.4942535 ,\n",
       "         0.33890954,  0.30708448],\n",
       "       [-0.18747301, -0.17860515, -0.2428076 , -0.18612015, -0.31765255,\n",
       "        -0.19344741, -0.32479152, -0.38320694, -0.36008943, -0.27258829,\n",
       "        -0.31272769, -0.20785194],\n",
       "       [-0.66566503, -0.63583433, -0.58559479, -0.65988053, -0.52942092,\n",
       "        -0.36864506, -0.22533383, -0.33232469, -0.46251487, -0.60808158,\n",
       "        -0.59200078, -0.59405425]])"
      ]
     },
     "execution_count": 6,
     "metadata": {},
     "output_type": "execute_result"
    }
   ],
   "source": [
    "#on fait du \"feature scaling\" pour reduire les valeurs de tout les features du dataset à l'intervalle (-1, 1) \n",
    "SC = StandardScaler()\n",
    "SC.fit(x)\n",
    "xnorm=SC.transform(x)\n",
    "xnorm"
   ]
  },
  {
   "cell_type": "code",
   "execution_count": 7,
   "metadata": {},
   "outputs": [
    {
     "data": {
      "text/plain": [
       "PCA(n_components=12)"
      ]
     },
     "execution_count": 7,
     "metadata": {},
     "output_type": "execute_result"
    }
   ],
   "source": [
    "#on garde tout les axes\n",
    "pca = PCA(n_components=12)\n",
    "pca.fit(xnorm)"
   ]
  },
  {
   "cell_type": "code",
   "execution_count": 8,
   "metadata": {},
   "outputs": [
    {
     "data": {
      "text/plain": [
       "array([10.80999558,  1.45184229,  0.0581652 ,  0.03279996,  0.01406283,\n",
       "        0.00621041,  0.00523837,  0.00406512,  0.00187861,  0.00145726,\n",
       "        0.0010361 ,  0.00034505])"
      ]
     },
     "execution_count": 8,
     "metadata": {},
     "output_type": "execute_result"
    }
   ],
   "source": [
    "#on récupere les valeurs propres de chaque axe \n",
    "pca.explained_variance_"
   ]
  },
  {
   "cell_type": "code",
   "execution_count": 9,
   "metadata": {},
   "outputs": [
    {
     "data": {
      "text/plain": [
       "array([0.87268193, 0.11720602, 0.00469563, 0.00264791, 0.00113528,\n",
       "       0.00050136, 0.00042289, 0.00032817, 0.00015166, 0.00011764,\n",
       "       0.00008364, 0.00002786])"
      ]
     },
     "execution_count": 9,
     "metadata": {},
     "output_type": "execute_result"
    }
   ],
   "source": [
    "#explained_variance_ratio_ nous aide a recuprer la variance cumulée. \n",
    "#On remarque que les deux premiers axes nous apporte plus que 90% de l'information \n",
    "# 0.87268193 + 0.11720602 = 0.98988795 soit presque 99%\n",
    "pca.explained_variance_ratio_"
   ]
  },
  {
   "cell_type": "markdown",
   "metadata": {},
   "source": [
    "D'ailleur si on demande 90% de l'information avec pca = PCA(n_components=0.9), explained_variance_ratio_ ne va retourner que les deux premiers axes"
   ]
  },
  {
   "cell_type": "code",
   "execution_count": 11,
   "metadata": {},
   "outputs": [
    {
     "data": {
      "text/plain": [
       "array([0.27151028, 0.28846164, 0.3010811 , 0.30354174, 0.28353089,\n",
       "       0.27841907, 0.27290295, 0.28757774, 0.30472022, 0.3038548 ,\n",
       "       0.29242808, 0.2729549 ])"
      ]
     },
     "execution_count": 11,
     "metadata": {},
     "output_type": "execute_result"
    }
   ],
   "source": [
    "#les poids des axes d'origine pour la premier variable de l'ACP qui apporte 0.87268193 de l'information\n",
    "#on remarque qu'il y a pas une grande difference entre les valeurs, c'est à dire que tout les variable\n",
    "#participe à peu prés avec le meme poids\n",
    "pca.components_[0,:]"
   ]
  },
  {
   "cell_type": "code",
   "execution_count": 12,
   "metadata": {},
   "outputs": [
    {
     "data": {
      "text/plain": [
       "array([ 0.39933494,  0.29907184,  0.12943051, -0.11530598, -0.32314291,\n",
       "       -0.35846763, -0.38879639, -0.3010133 , -0.11231622,  0.12249226,\n",
       "        0.26269461,  0.38693688])"
      ]
     },
     "execution_count": 12,
     "metadata": {},
     "output_type": "execute_result"
    }
   ],
   "source": [
    "#les poids des axes d'origine pour la deuxieme variable de l'ACP qui apporte 0.11720602 de l'information\n",
    "\n",
    "pca.components_[1,:]"
   ]
  },
  {
   "cell_type": "code",
   "execution_count": 13,
   "metadata": {},
   "outputs": [
    {
     "data": {
      "text/plain": [
       "0.2886751345948129"
      ]
     },
     "execution_count": 13,
     "metadata": {},
     "output_type": "execute_result"
    }
   ],
   "source": [
    "#valeur seuil\n",
    "1/np.sqrt(12)"
   ]
  },
  {
   "cell_type": "markdown",
   "metadata": {},
   "source": [
    "# interprétation du premier axe y1:\n",
    "\n",
    "    y1= 0.27151028 * janvier + ... + 0.2729549 * décembre\n",
    "    \n",
    "Les valeurs des poids sont très proches de la valeur du seuil (0.2886751345948129). ceci nous permet de dire que tous les varibles participent (de janvier jusqu'a décembre)\n",
    "    \n",
    "De plus, vu qu'elle ont toutes des poids positives, si on calcule y1 pour une ville et on obtient une valeur positive alors cette ville à de fortes températures toute l'année (de janvier jusqu'a décembre).\n",
    "    \n",
    "Par contre, si la valeur de y1 est négative alors, celle-ci à de faibles températures toute l'année.\n",
    "        \n",
    "Si la valeur de y1 est moyenne c'est a dire que cette ville a des température moyennes tout l'année."
   ]
  },
  {
   "cell_type": "markdown",
   "metadata": {},
   "source": [
    "# Interprétation du second axe y2:\n",
    "\n",
    "    y2= 0.39933494 * janvier + ... + 0.38693688 * décembre\n",
    "    \n",
    "Les valeurs absolues des poids qui sont proches de la valeur du seuil sont: 0.39933494, 0.29907184, -0.32314291, -0.35846763, -0.38879639, -0.3010133 ,0.38693688 . \n",
    "\n",
    "Ceci signife que janvier février et décembre participent avec des poids positifs alors que mai, juin, juillet et aout participent avec des poids négatifs.\n",
    "        \n",
    "Du coup, si on calcule y2 pour une ville et on obtient une valeur positive, ceci signifie que cette ville a de fortes températures en hiver (de janvier février et décembre) mais de faibles températures en fin printemps/été (mai, juin, juillet et aout).\n",
    "        \n",
    "Par contre, si la valeur de y2 est négative, on déduit que cette ville a de fortes température dans les mois de mai, juin, juillet et aout, mais de faibles température dans les mois en hiver (janvier février et décembre).\n",
    "\n",
    "Si la valeur de y2 est moyenne c'est a dire que cette ville a des température moyennes tout l'année"
   ]
  },
  {
   "cell_type": "code",
   "execution_count": 16,
   "metadata": {},
   "outputs": [
    {
     "data": {
      "text/plain": [
       "array([[ 5.18728058,  0.75978942, -0.57559749,  0.08974014, -0.07159801,\n",
       "        -0.00586024, -0.16452149,  0.06412266, -0.06895496,  0.03532137,\n",
       "         0.00391946,  0.02406588],\n",
       "       [-0.88778562,  0.76987811,  0.11886913, -0.04735606,  0.13112443,\n",
       "         0.02593166, -0.07411571, -0.0031485 , -0.02937015,  0.01388333,\n",
       "        -0.00287694, -0.01881081],\n",
       "       [ 0.40607702,  0.4849017 ,  0.36946008,  0.16872505, -0.10529304,\n",
       "         0.13382185,  0.20573072, -0.01948275, -0.01749997,  0.00188401,\n",
       "        -0.00004347,  0.02188452],\n",
       "       [-2.9237469 , -0.91316957, -0.05478276,  0.07625388, -0.13825046,\n",
       "        -0.09869485, -0.04690669, -0.00202443,  0.04519103, -0.0017481 ,\n",
       "        -0.00222491,  0.00254859],\n",
       "       [ 3.11703576,  2.02750003,  0.21990117,  0.3231507 , -0.08944422,\n",
       "        -0.07823654,  0.00776009, -0.05772279, -0.01130301, -0.06813079,\n",
       "         0.02976282, -0.00983999],\n",
       "       [ 2.9532451 , -0.19259391,  0.66797016,  0.16410596, -0.10319012,\n",
       "         0.02051635, -0.08933938,  0.14942636,  0.01232084,  0.0020756 ,\n",
       "        -0.0065336 ,  0.00154085],\n",
       "       [-2.14172992,  3.89449982, -0.11764597, -0.04334357,  0.01695231,\n",
       "        -0.11660698,  0.01727085, -0.02864372,  0.09256668,  0.01730656,\n",
       "        -0.04729979,  0.01921735],\n",
       "       [-1.38361092, -0.41795585,  0.0144055 ,  0.12101048,  0.15085685,\n",
       "        -0.03358615,  0.07436828,  0.07125099, -0.031552  ,  0.03436641,\n",
       "         0.00110745, -0.0051079 ],\n",
       "       [-2.03412946, -1.45031058,  0.22462553, -0.00622633, -0.05170445,\n",
       "        -0.00870067, -0.04178821, -0.00633937,  0.00403273,  0.02222272,\n",
       "        -0.00836175, -0.00041067],\n",
       "       [-3.91247257, -1.28331244, -0.4139819 ,  0.43223311,  0.08714111,\n",
       "         0.18559152, -0.07586816, -0.05655951,  0.08686173, -0.04601221,\n",
       "         0.01680774,  0.00648182],\n",
       "       [-1.16715701, -1.39195746,  0.10199101,  0.37538132, -0.14488268,\n",
       "        -0.1151836 ,  0.00291931, -0.14677188, -0.03037823,  0.05512259,\n",
       "        -0.01351395, -0.01144658],\n",
       "       [-3.69889469,  0.88688691, -0.31550142, -0.04201968, -0.05417159,\n",
       "         0.03392684,  0.08637272,  0.11330651,  0.01558933, -0.00178821,\n",
       "         0.02746091, -0.00351002],\n",
       "       [-2.08112507,  0.39904176,  0.23392595, -0.07564597,  0.21575272,\n",
       "        -0.07272956, -0.0964098 , -0.10018809, -0.04076081,  0.01163571,\n",
       "         0.02008246,  0.00472803],\n",
       "       [-0.50628562, -1.59743834,  0.08390294,  0.00487976,  0.02616422,\n",
       "        -0.10804077,  0.04987013, -0.01442566, -0.01675444, -0.0426294 ,\n",
       "         0.01528727,  0.02396276],\n",
       "       [ 4.57339727, -1.28318051, -0.18758475, -0.15684461, -0.05368301,\n",
       "        -0.11294178,  0.02750761,  0.0297821 ,  0.03686849,  0.01308834,\n",
       "         0.07475476,  0.00967896],\n",
       "       [ 3.92564991, -0.84778424, -0.08424546, -0.01690045,  0.05203555,\n",
       "         0.00676694,  0.04434895, -0.02656258,  0.07520132,  0.05350812,\n",
       "        -0.07871433,  0.01882069],\n",
       "       [-3.92493824, -0.86045934, -0.11174036, -0.28444513, -0.04986447,\n",
       "        -0.03793154,  0.00708666, -0.01094715, -0.0113145 , -0.07191707,\n",
       "        -0.03682499, -0.00823655],\n",
       "       [-0.16544865,  0.99403038,  0.23442471, -0.08145399,  0.05503054,\n",
       "         0.02408349, -0.07115274, -0.01112254,  0.05338833, -0.0624996 ,\n",
       "         0.00002744,  0.00997985],\n",
       "       [ 5.53740665,  0.1013869 , -0.12069142,  0.0029096 , -0.18286678,\n",
       "         0.15624842, -0.02234804, -0.06881499, -0.04659773, -0.00114199,\n",
       "        -0.02147201,  0.0029546 ],\n",
       "       [ 4.46514109, -1.36871979, -0.07374161, -0.07235638,  0.26069291,\n",
       "         0.05592454,  0.02893053, -0.02192908,  0.01022241, -0.00564768,\n",
       "         0.00325463,  0.01006302],\n",
       "       [-2.18952316,  0.16625348, -0.06564267, -0.03130354,  0.00352098,\n",
       "         0.01523713, -0.00894242,  0.03331455, -0.05433233,  0.00780084,\n",
       "        -0.01640878,  0.01789551],\n",
       "       [-0.95574528, -0.0842431 ,  0.29412755, -0.26620979, -0.06626541,\n",
       "         0.0245011 , -0.03707934,  0.00867349,  0.01604864,  0.00208578,\n",
       "         0.04636884,  0.04058809],\n",
       "       [ 6.30598001, -0.5088897 ,  0.08340984, -0.16664492,  0.12634848,\n",
       "         0.01067424,  0.09496796, -0.00679109,  0.03640122,  0.02835744,\n",
       "        -0.00899354, -0.02271665],\n",
       "       [-3.00578655, -0.13982978, -0.16979049, -0.18320869, -0.03130844,\n",
       "        -0.00838637,  0.0406098 , -0.01813713, -0.06002923,  0.00212798,\n",
       "        -0.00540938,  0.02924355],\n",
       "       [-1.24355136,  1.60485753,  0.12635653, -0.03147366,  0.14833293,\n",
       "         0.09640051, -0.01509819, -0.00506155, -0.07214945, -0.00325343,\n",
       "        -0.03243663, -0.00576107],\n",
       "       [-2.61732539,  1.13617654, -0.05245179, -0.12189872, -0.0394059 ,\n",
       "         0.10507971,  0.05074753, -0.04995826,  0.01217723,  0.03502291,\n",
       "         0.08491432, -0.02102642],\n",
       "       [-3.42491183,  0.50323189, -0.18654155,  0.1057938 , -0.14003638,\n",
       "        -0.01637365,  0.06224727,  0.07824396, -0.0056212 ,  0.04669633,\n",
       "        -0.01545078, -0.01786624],\n",
       "       [-3.43057934, -1.6532925 ,  0.07816907, -0.3057371 , -0.15617164,\n",
       "         0.05711564, -0.04502202,  0.0180514 ,  0.00379826, -0.02768837,\n",
       "        -0.04222283, -0.02668379],\n",
       "       [ 6.23320885,  0.8341028 , -0.2140107 , -0.20397176, -0.12706361,\n",
       "        -0.03130747,  0.00600237, -0.05700409,  0.00200669, -0.05293182,\n",
       "        -0.00158281, -0.03400027],\n",
       "       [ 1.71739119, -0.31651604, -0.06712402,  0.26581122,  0.12902148,\n",
       "        -0.05601332,  0.0241352 ,  0.14252155, -0.00770109, -0.06385982,\n",
       "        -0.01044869, -0.01305404],\n",
       "       [-0.91552206,  0.1198502 ,  0.13622773, -0.04841059,  0.04791342,\n",
       "         0.02089515, -0.10228062,  0.02317885,  0.04490571,  0.07629532,\n",
       "         0.02038243, -0.0290516 ],\n",
       "       [-1.81154378, -0.37273431, -0.17669257,  0.05545593,  0.15431228,\n",
       "        -0.07212163,  0.05999685, -0.02023723, -0.04326152, -0.00955287,\n",
       "         0.00668863, -0.01613147]])"
      ]
     },
     "execution_count": 16,
     "metadata": {},
     "output_type": "execute_result"
    }
   ],
   "source": [
    "#X_pca est la matrices contenant tout les valeurs des axes de y1 à y12\n",
    "X_pca = pca.transform(xnorm)\n",
    "X_pca"
   ]
  },
  {
   "cell_type": "code",
   "execution_count": 17,
   "metadata": {
    "scrolled": true
   },
   "outputs": [
    {
     "data": {
      "image/png": "[encoded data removed]",
      "text/plain": [
       "<Figure size 432x288 with 1 Axes>"
      ]
     },
     "metadata": {
      "needs_background": "light"
     },
     "output_type": "display_data"
    }
   ],
   "source": [
    "#on ne s'interesse qu'au deux premiers axes y1 et y2\n",
    "plt.scatter(X_pca[:, 0], X_pca[:, 1])\n",
    "for label, x, y in zip(labels, X_pca[:, 0], X_pca[:, 1]):\n",
    "    plt.annotate(label, xy=(x, y), xytext=(-0.2, 0.2), textcoords='offset points') \n",
    "plt.show()"
   ]
  },
  {
   "cell_type": "markdown",
   "metadata": {},
   "source": [
    "x correspond à y1 qui nous permet d'interpreter sur la température  durant toute l'année. On voit que les villes du sud sont plutot à gauche (positives) vu qu'il y fait beau presque toute l'année alors que les villes du nord tendent vers la droite (négative) vu qu'il fait plutot mauvais toute l'année.\n",
    "\n",
    "y correspond à y2 qui nous permet de voir l'écart de température entre les saisons hiver-été. On remarque que pour Brest, contrairement à Lyon, la saison hivernale est caracterisé par une température élévé tandis qu'à l'été, il fait frais.\n",
    "\n",
    "Les villes situés au mileu (e. g. Nantes, Tours, Angouleme) ont des température moyennes durant toute l'année\n"
   ]
  },
  {
   "cell_type": "markdown",
   "metadata": {},
   "source": [
    "## Crimes"
   ]
  },
  {
   "cell_type": "code",
   "execution_count": 18,
   "metadata": {},
   "outputs": [
    {
     "data": {
      "text/html": [
       "<div>\n",
       "<style scoped>\n",
       "    .dataframe tbody tr th:only-of-type {\n",
       "        vertical-align: middle;\n",
       "    }\n",
       "\n",
       "    .dataframe tbody tr th {\n",
       "        vertical-align: top;\n",
       "    }\n",
       "\n",
       "    .dataframe thead th {\n",
       "        text-align: right;\n",
       "    }\n",
       "</style>\n",
       "<table border=\"1\" class=\"dataframe\">\n",
       "  <thead>\n",
       "    <tr style=\"text-align: right;\">\n",
       "      <th></th>\n",
       "      <th>Etat</th>\n",
       "      <th>Meutre</th>\n",
       "      <th>Rapt</th>\n",
       "      <th>Vol</th>\n",
       "      <th>Attaque</th>\n",
       "      <th>Viol</th>\n",
       "      <th>Larcin</th>\n",
       "      <th>Auto_Theft</th>\n",
       "    </tr>\n",
       "  </thead>\n",
       "  <tbody>\n",
       "    <tr>\n",
       "      <th>0</th>\n",
       "      <td>Alabama</td>\n",
       "      <td>14.2</td>\n",
       "      <td>25.2</td>\n",
       "      <td>96.8</td>\n",
       "      <td>278.3</td>\n",
       "      <td>1135.5</td>\n",
       "      <td>1881.9</td>\n",
       "      <td>280.7</td>\n",
       "    </tr>\n",
       "    <tr>\n",
       "      <th>1</th>\n",
       "      <td>Alaska</td>\n",
       "      <td>10.8</td>\n",
       "      <td>51.6</td>\n",
       "      <td>96.8</td>\n",
       "      <td>284.0</td>\n",
       "      <td>1331.7</td>\n",
       "      <td>3369.8</td>\n",
       "      <td>753.3</td>\n",
       "    </tr>\n",
       "    <tr>\n",
       "      <th>2</th>\n",
       "      <td>Arizona</td>\n",
       "      <td>9.5</td>\n",
       "      <td>34.2</td>\n",
       "      <td>138.2</td>\n",
       "      <td>312.3</td>\n",
       "      <td>2346.1</td>\n",
       "      <td>4467.4</td>\n",
       "      <td>439.5</td>\n",
       "    </tr>\n",
       "    <tr>\n",
       "      <th>3</th>\n",
       "      <td>Arkansas</td>\n",
       "      <td>8.8</td>\n",
       "      <td>27.6</td>\n",
       "      <td>83.2</td>\n",
       "      <td>203.4</td>\n",
       "      <td>972.6</td>\n",
       "      <td>1862.1</td>\n",
       "      <td>183.4</td>\n",
       "    </tr>\n",
       "    <tr>\n",
       "      <th>4</th>\n",
       "      <td>California</td>\n",
       "      <td>11.5</td>\n",
       "      <td>49.4</td>\n",
       "      <td>287.0</td>\n",
       "      <td>358.0</td>\n",
       "      <td>2139.4</td>\n",
       "      <td>3499.8</td>\n",
       "      <td>663.5</td>\n",
       "    </tr>\n",
       "  </tbody>\n",
       "</table>\n",
       "</div>"
      ],
      "text/plain": [
       "        Etat   Meutre  Rapt    Vol  Attaque    Viol  Larcin  Auto_Theft\n",
       "0     Alabama    14.2  25.2   96.8    278.3  1135.5  1881.9       280.7\n",
       "1      Alaska    10.8  51.6   96.8    284.0  1331.7  3369.8       753.3\n",
       "2     Arizona     9.5  34.2  138.2    312.3  2346.1  4467.4       439.5\n",
       "3    Arkansas     8.8  27.6   83.2    203.4   972.6  1862.1       183.4\n",
       "4  California    11.5  49.4  287.0    358.0  2139.4  3499.8       663.5"
      ]
     },
     "execution_count": 18,
     "metadata": {},
     "output_type": "execute_result"
    }
   ],
   "source": [
    "crimes = pd.read_csv('./crimes.csv', sep=';')\n",
    "crimes.head(5)"
   ]
  },
  {
   "cell_type": "code",
   "execution_count": 19,
   "metadata": {},
   "outputs": [
    {
     "data": {
      "text/plain": [
       "(50, 8)"
      ]
     },
     "execution_count": 19,
     "metadata": {},
     "output_type": "execute_result"
    }
   ],
   "source": [
    "crimes.shape"
   ]
  },
  {
   "cell_type": "code",
   "execution_count": 20,
   "metadata": {},
   "outputs": [],
   "source": [
    "x_crimes = crimes.iloc[:,1:8].values\n",
    "labels_crimes = crimes.iloc[:,0].values"
   ]
  },
  {
   "cell_type": "code",
   "execution_count": 21,
   "metadata": {},
   "outputs": [
    {
     "data": {
      "text/plain": [
       "(50, 7)"
      ]
     },
     "execution_count": 21,
     "metadata": {},
     "output_type": "execute_result"
    }
   ],
   "source": [
    "x_crimes.shape"
   ]
  },
  {
   "cell_type": "code",
   "execution_count": 22,
   "metadata": {},
   "outputs": [
    {
     "data": {
      "text/plain": [
       "(50,)"
      ]
     },
     "execution_count": 22,
     "metadata": {},
     "output_type": "execute_result"
    }
   ],
   "source": [
    "labels_crimes.shape"
   ]
  },
  {
   "cell_type": "code",
   "execution_count": 23,
   "metadata": {},
   "outputs": [],
   "source": [
    "sc_crimes = StandardScaler()\n",
    "sc_crimes.fit(x_crimes)\n",
    "x_crimes_norm=sc_crimes.transform(x_crimes)"
   ]
  },
  {
   "cell_type": "code",
   "execution_count": 49,
   "metadata": {},
   "outputs": [
    {
     "data": {
      "text/plain": [
       "PCA(n_components=7)"
      ]
     },
     "execution_count": 49,
     "metadata": {},
     "output_type": "execute_result"
    }
   ],
   "source": [
    "pca_crimes = PCA(n_components=7)\n",
    "pca_crimes.fit(x_crimes_norm)"
   ]
  },
  {
   "cell_type": "code",
   "execution_count": 50,
   "metadata": {},
   "outputs": [
    {
     "data": {
      "text/plain": [
       "array([4.19893828, 1.26400187, 0.74062921, 0.32288984, 0.26323924,\n",
       "       0.22657089, 0.12658781])"
      ]
     },
     "execution_count": 50,
     "metadata": {},
     "output_type": "execute_result"
    }
   ],
   "source": [
    "pca_crimes.explained_variance_"
   ]
  },
  {
   "cell_type": "code",
   "execution_count": 26,
   "metadata": {},
   "outputs": [
    {
     "data": {
      "text/plain": [
       "array([0.58785136, 0.17696026, 0.10368809, 0.04520458, 0.03685349,\n",
       "       0.03171992, 0.01772229])"
      ]
     },
     "execution_count": 26,
     "metadata": {},
     "output_type": "execute_result"
    }
   ],
   "source": [
    "pca_crimes.explained_variance_ratio_"
   ]
  },
  {
   "cell_type": "markdown",
   "metadata": {},
   "source": [
    "On doit retenir les 4 premiers axes si on veut représenter au moins 90% de l'information. \n",
    "0.58785136 + 0.17696026 + 0.10368809 + 0.04520458 = 0.91370429 soit eviron 91% de l'information."
   ]
  },
  {
   "cell_type": "code",
   "execution_count": 57,
   "metadata": {},
   "outputs": [
    {
     "data": {
      "text/plain": [
       "array([0.30027916, 0.43175936, 0.39687549, 0.3966517 , 0.44015721,\n",
       "       0.35735953, 0.29517681])"
      ]
     },
     "execution_count": 57,
     "metadata": {},
     "output_type": "execute_result"
    }
   ],
   "source": [
    "pca_crimes.components_[0,:]"
   ]
  },
  {
   "cell_type": "code",
   "execution_count": 58,
   "metadata": {},
   "outputs": [
    {
     "data": {
      "text/plain": [
       "array([-0.62917444, -0.16943512,  0.04224698, -0.34352815,  0.20334059,\n",
       "        0.40231912,  0.50242093])"
      ]
     },
     "execution_count": 58,
     "metadata": {},
     "output_type": "execute_result"
    }
   ],
   "source": [
    "pca_crimes.components_[1,:]"
   ]
  },
  {
   "cell_type": "code",
   "execution_count": 59,
   "metadata": {},
   "outputs": [
    {
     "data": {
      "text/plain": [
       "array([ 0.1782453 , -0.24419758,  0.49586087, -0.06950972, -0.20989509,\n",
       "       -0.53923144,  0.56838373])"
      ]
     },
     "execution_count": 59,
     "metadata": {},
     "output_type": "execute_result"
    }
   ],
   "source": [
    "pca_crimes.components_[2,:]"
   ]
  },
  {
   "cell_type": "code",
   "execution_count": 60,
   "metadata": {},
   "outputs": [
    {
     "data": {
      "text/plain": [
       "array([-0.23211411,  0.06221567, -0.55798926,  0.62980445, -0.05755491,\n",
       "       -0.23488987,  0.41923832])"
      ]
     },
     "execution_count": 60,
     "metadata": {},
     "output_type": "execute_result"
    }
   ],
   "source": [
    "pca_crimes.components_[3,:]"
   ]
  },
  {
   "cell_type": "code",
   "execution_count": 51,
   "metadata": {},
   "outputs": [
    {
     "data": {
      "text/plain": [
       "0.3779644730092272"
      ]
     },
     "execution_count": 51,
     "metadata": {},
     "output_type": "execute_result"
    }
   ],
   "source": [
    "#valeur seuil\n",
    "1/np.sqrt(7)"
   ]
  },
  {
   "cell_type": "markdown",
   "metadata": {},
   "source": [
    "# interprétation du premier axe y1:\n",
    "\n",
    "    y1= 0.30027916 * Meutre + ... + 0.29517681 * Auto_Theft\n",
    "    \n",
    "Les valeurs des poids sont plutot proches de la valeur du seuil (0.3779644730092272). Ceci nous permet de dire que tous les varibles participent.\n",
    "    \n",
    "De plus, vu qu'elle ont toutes des poids positives, elle vont nous permettre d'interpreter sur le niveau de criminalité d'un état comme suit :\n",
    "\n",
    "    * Si on calcule y1 pour un état et on obtient une valeur positive alors cet état à beacoup de crimes de tout genre. \n",
    "    \n",
    "    * Si la valeur de y1 est négative alors cet état est plutot sécurisé.\n",
    "    \n",
    "    * Si la valeur de y1 est moyenne c'est a dire que cet état a taux de criminalité moyen."
   ]
  },
  {
   "cell_type": "markdown",
   "metadata": {},
   "source": [
    "# interprétation du second axe y2:\n",
    "\n",
    "    y1= -0.62917444 * Meutre + ... + 0.50242093 * Auto_Theft\n",
    "    \n",
    "Les valeurs absolues des poids qui sont proches de la valeur du seuil sont: -0.62917444, -0.34352815, 0.40231912,  0.50242093 . \n",
    "\n",
    "Ceci signife que Vol et Auto_Theft participent avec des poids positifs alors que Meutre et Attaque participent avec des poids négatifes.\n",
    "        \n",
    "Du coup, si on calcule y2 pour un état et on obtient une valeur positive, ceci signifie que les criminels de cet état ont plus tendance à voler les affaires publiques/personnels notamment les voitures. Mais ils ont moins tendance à tuer ou blesser des citoyens.\n",
    "        \n",
    "Par contre, si la valeur de y2 est négative, on déduit que le système criminel de cet état est assez violent, ou les crimines sont principalement des attaques aux personnes, commission de meurtre ou homicide et de violence physique en générale.\n",
    "\n",
    "Si la valeur de y2 est moyenne c'est a dire que cet état a taux de criminalité moyen."
   ]
  },
  {
   "cell_type": "code",
   "execution_count": 29,
   "metadata": {},
   "outputs": [],
   "source": [
    "X_pca_crimes = pca_crimes.transform(x_crimes_norm)"
   ]
  },
  {
   "cell_type": "code",
   "execution_count": 62,
   "metadata": {},
   "outputs": [
    {
     "data": {
      "image/png": "[encoded data removed]",
      "text/plain": [
       "<Figure size 432x288 with 1 Axes>"
      ]
     },
     "metadata": {
      "needs_background": "light"
     },
     "output_type": "display_data"
    }
   ],
   "source": [
    "plt.scatter(X_pca_crimes[:, 0], X_pca_crimes[:, 1])\n",
    "for label, x, y in zip(labels_crimes, X_pca_crimes[:, 0], X_pca_crimes[:, 1]):\n",
    "    plt.annotate(label, xy=(x, y), xytext=(-0.2, 0.2), textcoords='offset points') \n",
    "plt.show()"
   ]
  },
  {
   "cell_type": "markdown",
   "metadata": {},
   "source": [
    "L'axe des x représente y1, on se basant sur l'explication que nous avons fait plus tot, on remarque qu'il est plus sur de vivre à North-Dakota qu'en Californie ou Nevada.\n",
    "\n",
    "L'axe des y représente y2, on peut voir que le point commun entre les deux état Massachusetts et Mississippi et le fait qu'ils ont un taux de ciriminalité moyen, vu que les deux états résident au milieu de la représentation. Mais les types des crimes commis sont différent, à Mississippi, les criminels sont plus violents et tendance a etre des meurtiers tandis que sur Massachusetts y a plus d'atteintes à la propriété que de violence physique. "
   ]
  },
  {
   "cell_type": "markdown",
   "metadata": {},
   "source": [
    "## Startups"
   ]
  },
  {
   "cell_type": "code",
   "execution_count": 31,
   "metadata": {},
   "outputs": [
    {
     "data": {
      "text/html": [
       "<div>\n",
       "<style scoped>\n",
       "    .dataframe tbody tr th:only-of-type {\n",
       "        vertical-align: middle;\n",
       "    }\n",
       "\n",
       "    .dataframe tbody tr th {\n",
       "        vertical-align: top;\n",
       "    }\n",
       "\n",
       "    .dataframe thead th {\n",
       "        text-align: right;\n",
       "    }\n",
       "</style>\n",
       "<table border=\"1\" class=\"dataframe\">\n",
       "  <thead>\n",
       "    <tr style=\"text-align: right;\">\n",
       "      <th></th>\n",
       "      <th>Id</th>\n",
       "      <th>Depenses R&amp;D</th>\n",
       "      <th>Depenses Administration</th>\n",
       "      <th>Depenses Marketing Spend</th>\n",
       "      <th>Benefice</th>\n",
       "    </tr>\n",
       "  </thead>\n",
       "  <tbody>\n",
       "    <tr>\n",
       "      <th>0</th>\n",
       "      <td>1</td>\n",
       "      <td>165349.20</td>\n",
       "      <td>136897.80</td>\n",
       "      <td>471784.10</td>\n",
       "      <td>192261.83</td>\n",
       "    </tr>\n",
       "    <tr>\n",
       "      <th>1</th>\n",
       "      <td>2</td>\n",
       "      <td>162597.70</td>\n",
       "      <td>151377.59</td>\n",
       "      <td>443898.53</td>\n",
       "      <td>191792.06</td>\n",
       "    </tr>\n",
       "    <tr>\n",
       "      <th>2</th>\n",
       "      <td>3</td>\n",
       "      <td>153441.51</td>\n",
       "      <td>101145.55</td>\n",
       "      <td>407934.54</td>\n",
       "      <td>191050.39</td>\n",
       "    </tr>\n",
       "    <tr>\n",
       "      <th>3</th>\n",
       "      <td>4</td>\n",
       "      <td>144372.41</td>\n",
       "      <td>118671.85</td>\n",
       "      <td>383199.62</td>\n",
       "      <td>182901.99</td>\n",
       "    </tr>\n",
       "    <tr>\n",
       "      <th>4</th>\n",
       "      <td>5</td>\n",
       "      <td>142107.34</td>\n",
       "      <td>91391.77</td>\n",
       "      <td>366168.42</td>\n",
       "      <td>166187.94</td>\n",
       "    </tr>\n",
       "  </tbody>\n",
       "</table>\n",
       "</div>"
      ],
      "text/plain": [
       "   Id  Depenses R&D  Depenses Administration  Depenses Marketing Spend  \\\n",
       "0   1     165349.20                136897.80                 471784.10   \n",
       "1   2     162597.70                151377.59                 443898.53   \n",
       "2   3     153441.51                101145.55                 407934.54   \n",
       "3   4     144372.41                118671.85                 383199.62   \n",
       "4   5     142107.34                 91391.77                 366168.42   \n",
       "\n",
       "    Benefice  \n",
       "0  192261.83  \n",
       "1  191792.06  \n",
       "2  191050.39  \n",
       "3  182901.99  \n",
       "4  166187.94  "
      ]
     },
     "execution_count": 31,
     "metadata": {},
     "output_type": "execute_result"
    }
   ],
   "source": [
    "startups = pd.read_csv('./50_Startups.csv', sep=';')\n",
    "startups.head(5)"
   ]
  },
  {
   "cell_type": "code",
   "execution_count": 32,
   "metadata": {},
   "outputs": [
    {
     "data": {
      "text/plain": [
       "(50, 5)"
      ]
     },
     "execution_count": 32,
     "metadata": {},
     "output_type": "execute_result"
    }
   ],
   "source": [
    "startups.shape"
   ]
  },
  {
   "cell_type": "code",
   "execution_count": 33,
   "metadata": {},
   "outputs": [],
   "source": [
    "x_startups = startups.iloc[:,1:5].values\n",
    "id_startups = startups.iloc[:,0].values"
   ]
  },
  {
   "cell_type": "code",
   "execution_count": 34,
   "metadata": {},
   "outputs": [
    {
     "data": {
      "text/plain": [
       "(50, 4)"
      ]
     },
     "execution_count": 34,
     "metadata": {},
     "output_type": "execute_result"
    }
   ],
   "source": [
    "x_startups.shape"
   ]
  },
  {
   "cell_type": "code",
   "execution_count": 35,
   "metadata": {},
   "outputs": [
    {
     "data": {
      "text/plain": [
       "(50,)"
      ]
     },
     "execution_count": 35,
     "metadata": {},
     "output_type": "execute_result"
    }
   ],
   "source": [
    "id_startups.shape"
   ]
  },
  {
   "cell_type": "code",
   "execution_count": 36,
   "metadata": {},
   "outputs": [],
   "source": [
    "sc_startups = StandardScaler()\n",
    "sc_startups.fit(x_startups)\n",
    "x_startups_norm = sc_startups.transform(x_startups)"
   ]
  },
  {
   "cell_type": "code",
   "execution_count": 37,
   "metadata": {},
   "outputs": [
    {
     "data": {
      "text/plain": [
       "PCA(n_components=4)"
      ]
     },
     "execution_count": 37,
     "metadata": {},
     "output_type": "execute_result"
    }
   ],
   "source": [
    "pca_startups = PCA(n_components=4)\n",
    "pca_startups.fit(x_startups_norm)"
   ]
  },
  {
   "cell_type": "code",
   "execution_count": 38,
   "metadata": {},
   "outputs": [
    {
     "data": {
      "text/plain": [
       "array([2.7267099 , 1.04019163, 0.28830861, 0.02642251])"
      ]
     },
     "execution_count": 38,
     "metadata": {},
     "output_type": "execute_result"
    }
   ],
   "source": [
    "pca_startups.explained_variance_"
   ]
  },
  {
   "cell_type": "code",
   "execution_count": 39,
   "metadata": {},
   "outputs": [
    {
     "data": {
      "text/plain": [
       "array([0.66804393, 0.25484695, 0.07063561, 0.00647351])"
      ]
     },
     "execution_count": 39,
     "metadata": {},
     "output_type": "execute_result"
    }
   ],
   "source": [
    "pca_startups.explained_variance_ratio_"
   ]
  },
  {
   "cell_type": "markdown",
   "metadata": {},
   "source": [
    "Pour conserver au moins 90% de l'information représentée on doit prendre 2 axes.\n",
    "0.66804393 + 0.25484695 = 0.92289088 soit environ 92% de l'information"
   ]
  },
  {
   "cell_type": "code",
   "execution_count": 40,
   "metadata": {},
   "outputs": [
    {
     "data": {
      "text/plain": [
       "array([0.59347855, 0.14737886, 0.52064694, 0.59580992])"
      ]
     },
     "execution_count": 40,
     "metadata": {},
     "output_type": "execute_result"
    }
   ],
   "source": [
    "pca_startups.components_[0,:]"
   ]
  },
  {
   "cell_type": "code",
   "execution_count": 41,
   "metadata": {},
   "outputs": [
    {
     "data": {
      "text/plain": [
       "array([-0.04048087, -0.95051314,  0.30797098,  0.00632069])"
      ]
     },
     "execution_count": 41,
     "metadata": {},
     "output_type": "execute_result"
    }
   ],
   "source": [
    "pca_startups.components_[1,:]"
   ]
  },
  {
   "cell_type": "code",
   "execution_count": 52,
   "metadata": {},
   "outputs": [
    {
     "data": {
      "text/plain": [
       "0.5"
      ]
     },
     "execution_count": 52,
     "metadata": {},
     "output_type": "execute_result"
    }
   ],
   "source": [
    "#valeur seuil\n",
    "1/np.sqrt(4)"
   ]
  },
  {
   "cell_type": "markdown",
   "metadata": {},
   "source": [
    "# interprétation du premier axe y1:\n",
    "\n",
    "    y1= 0.59347855 * Depenses R&D + ... + 0.59580992 * Benefices\n",
    "    \n",
    "Les valeurs des poids depenses R&D, depenses marketing et benefices sont très proches de la valeur du seuil (0.5). \n",
    "    \n",
    "Ces valeurs présentent des poids positives nous permettant d'interpreter comme suit :\n",
    "\n",
    "    * Si on calcule y1 pour une startup et on obtient une valeur positive alors cet startup a investi dans les département marketing et R&D et elle à générer becoup de benefices. \n",
    "    \n",
    "    * Si la valeur de y1 est négative, alors le/les startup owner(s) n'a pas investit dans sa startup, par conséquent elle est infructueuse.\n",
    "    \n",
    "    * Si la valeur de y1 est moyenne c'est a dire que les depense en R&D et Marketing sont moyennes et par conséquent les gains sont moyens."
   ]
  },
  {
   "cell_type": "markdown",
   "metadata": {},
   "source": [
    "# interprétation du second axe y2:\n",
    "\n",
    "    y1= -0.04048087 * Depenses R&D + ... + 0.00632069 * Benefices\n",
    "    \n",
    "la valeur absolue du poids superieure ou égale à celle du seuil est: -0.95051314. \n",
    "\n",
    "Ceci signife que Depenses Administration participe avec un poids négatif.\n",
    "        \n",
    "Si on calcule y2 pour une start et on obtient une valeur positive, ceci signifie que cette startup n'a pas beacoup de dépenses adminstratives. Par contre si elle est négative, c'est à dire qu'elle dépense beaucoup dans cet département.\n",
    "Si la valeur de y2 est moyenne cette startup a des dépenses administration moyennes."
   ]
  },
  {
   "cell_type": "code",
   "execution_count": 63,
   "metadata": {},
   "outputs": [],
   "source": [
    "X_pca_startups = pca_startups.transform(x_startups_norm)"
   ]
  },
  {
   "cell_type": "code",
   "execution_count": 64,
   "metadata": {
    "scrolled": true
   },
   "outputs": [
    {
     "data": {
      "image/png": "[encoded data removed]",
      "text/plain": [
       "<Figure size 432x288 with 1 Axes>"
      ]
     },
     "metadata": {
      "needs_background": "light"
     },
     "output_type": "display_data"
    }
   ],
   "source": [
    "plt.scatter(X_pca_startups[:, 0], X_pca_startups[:, 1])\n",
    "for label, x, y in zip(id_startups, X_pca_startups[:, 0], X_pca_startups[:, 1]):\n",
    "    plt.annotate(label, xy=(x, y), xytext=(-0.2, 0.2), textcoords='offset points') \n",
    "plt.show()"
   ]
  },
  {
   "cell_type": "markdown",
   "metadata": {},
   "source": [
    "L'axe des x et des y représentant respectiviement y1 et y2, on remarque que la plus part des startup sont au milieu. Signifiant que les dépenses sur les trois départements R&D, Marketing et administration sont moyennes et les bénéfices générés sont moyennes. Ce qui est cohérents avec le concept des startup ayant des budget limités et commencant à petit pas.\n",
    "\n",
    "Quelques unes ont le privilèges de dépenser plus et par conséquent générer plus de gains (exemple: 1 et 2). Par contre y ont a qui sont vraiment qui sont sans résultat, comme 49, qui ne dépense pas assez sur tout les département et génère très peu de gains"
   ]
  },
  {
   "cell_type": "code",
   "execution_count": null,
   "metadata": {},
   "outputs": [],
   "source": []
  }
 ],
 "metadata": {
  "kernelspec": {
   "display_name": "Python 3",
   "language": "python",
   "name": "python3"
  },
  "language_info": {
   "codemirror_mode": {
    "name": "ipython",
    "version": 3
   },
   "file_extension": ".py",
   "mimetype": "text/x-python",
   "name": "python",
   "nbconvert_exporter": "python",
   "pygments_lexer": "ipython3",
   "version": "3.8.0"
  }
 },
 "nbformat": 4,
 "nbformat_minor": 4
}
